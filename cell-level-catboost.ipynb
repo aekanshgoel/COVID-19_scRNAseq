{
 "cells": [
  {
   "cell_type": "markdown",
   "metadata": {},
   "source": [
    "### CatBoost classification model for predicting COVID-19 severity using single-cell RNA sequencing data"
   ]
  },
  {
   "cell_type": "markdown",
   "metadata": {},
   "source": [
    "## Import libaries"
   ]
  },
  {
   "cell_type": "code",
   "execution_count": 1,
   "metadata": {},
   "outputs": [],
   "source": [
    "import numpy as np\n",
    "import pandas as pd\n",
    "from matplotlib import pyplot as plt\n",
    "from sklearn.model_selection import train_test_split\n",
    "from catboost import CatBoostClassifier\n",
    "from sklearn.ensemble import RandomForestClassifier\n",
    "from sklearn import metrics\n",
    "import collections\n",
    "from sklearn.metrics import classification_report\n",
    "from sklearn.metrics import confusion_matrix, plot_confusion_matrix\n",
    "from sklearn.metrics import f1_score"
   ]
  },
  {
   "cell_type": "markdown",
   "metadata": {},
   "source": [
    "## Load data"
   ]
  },
  {
   "cell_type": "markdown",
   "metadata": {},
   "source": [
    "### Load testing data"
   ]
  },
  {
   "cell_type": "code",
   "execution_count": 2,
   "metadata": {},
   "outputs": [],
   "source": [
    "# Load testing data (3 patients)\n",
    "X_test = pd.read_csv('split_data/test-data.csv')\n",
    "y_test = pd.read_csv('split_data/test-data-labels.csv')"
   ]
  },
  {
   "cell_type": "code",
   "execution_count": 3,
   "metadata": {},
   "outputs": [],
   "source": [
    "# Convert the text labels to numerical labels\n",
    "# In this case, we will say 0=normal, 1=mild, 2=severe\n",
    "y_test['type']=y_test['type'].replace('Normal',0)\n",
    "y_test['type']=y_test['type'].replace('Mild', 1)\n",
    "y_test['type']=y_test['type'].replace('Severe', 2)"
   ]
  },
  {
   "cell_type": "code",
   "execution_count": 4,
   "metadata": {},
   "outputs": [],
   "source": [
    "# Save feature names before turning dataframe into numpy array \n",
    "feature_names = list(X_test.drop(columns=['Unnamed: 0']).columns)"
   ]
  },
  {
   "cell_type": "code",
   "execution_count": 5,
   "metadata": {},
   "outputs": [],
   "source": [
    "# Drop unnecessary columns\n",
    "X_test = np.array(X_test.drop(columns=['Unnamed: 0'])) # dataset is all the data expect for the first column containing the identifier information\n",
    "y_test = np.array(y_test.drop(columns=['Unnamed: 0']))\n",
    "y_test = np.reshape(y_test, (y_test.shape[0],)) # reshape the data to be (n,) instead of (n,1)"
   ]
  },
  {
   "cell_type": "code",
   "execution_count": 6,
   "metadata": {},
   "outputs": [
    {
     "name": "stdout",
     "output_type": "stream",
     "text": [
      "Testing data size: (5608, 1999)\n",
      "Testing labels size: (5608,)\n"
     ]
    }
   ],
   "source": [
    "# Print shapes of testing dataset \n",
    "print(\"Testing data size:\", X_test.shape)\n",
    "print(\"Testing labels size:\", y_test.shape)"
   ]
  },
  {
   "cell_type": "markdown",
   "metadata": {},
   "source": [
    "### Load training data "
   ]
  },
  {
   "cell_type": "code",
   "execution_count": 7,
   "metadata": {},
   "outputs": [],
   "source": [
    "# Load training data (one patient at a time)\n",
    "num_folds = 10\n",
    "X_train = [[] for x in range(num_folds)] # make list of arrays to hold X data for each patient\n",
    "y_train = [[] for x in range(num_folds)] # make list of arrays to hold y data for each patient\n",
    "for i in range(num_folds):\n",
    "    X_filename = 'split_data/train-data_' + str(i+1) + '.csv'\n",
    "    y_filename = 'split_data/train-data-labels_' + str(i+1) + '.csv'\n",
    "\n",
    "    X_train_temp = pd.read_csv(X_filename)\n",
    "    y_train_temp = pd.read_csv(y_filename)\n",
    "\n",
    "    # Convert the text labels to numerical labels\n",
    "    # In this case, we will say 0=normal, 1=mild, 2=severe\n",
    "    y_train_temp['type'] = y_train_temp['type'].replace('Normal', 0)\n",
    "    y_train_temp['type'] = y_train_temp['type'].replace('Mild', 1)\n",
    "    y_train_temp['type'] = y_train_temp['type'].replace('Severe', 2)\n",
    "\n",
    "    # Drop unnecessary columns\n",
    "    X_train_temp = np.array(X_train_temp.drop(columns=['Unnamed: 0']))  # dataset is all the data expect for the first column containing the identifier information\n",
    "    y_train_temp = np.array(y_train_temp.drop(columns=['Unnamed: 0']))\n",
    "    y_train_temp = np.reshape(y_train_temp, (y_train_temp.shape[0],))  # reshape the data to be (n,) instead of (n,1)\n",
    "\n",
    "    X_train[i] = X_train_temp\n",
    "    y_train[i] = y_train_temp"
   ]
  },
  {
   "cell_type": "code",
   "execution_count": 8,
   "metadata": {},
   "outputs": [
    {
     "name": "stdout",
     "output_type": "stream",
     "text": [
      "Patient 1 data size: (377, 1999)\n",
      "Patient 1 label size: (377,)\n",
      "\n",
      "\n",
      "Patient 2 data size: (86, 1999)\n",
      "Patient 2 label size: (86,)\n",
      "\n",
      "\n",
      "Patient 3 data size: (383, 1999)\n",
      "Patient 3 label size: (383,)\n",
      "\n",
      "\n",
      "Patient 4 data size: (3858, 1999)\n",
      "Patient 4 label size: (3858,)\n",
      "\n",
      "\n",
      "Patient 5 data size: (347, 1999)\n",
      "Patient 5 label size: (347,)\n",
      "\n",
      "\n",
      "Patient 6 data size: (4818, 1999)\n",
      "Patient 6 label size: (4818,)\n",
      "\n",
      "\n",
      "Patient 7 data size: (5253, 1999)\n",
      "Patient 7 label size: (5253,)\n",
      "\n",
      "\n",
      "Patient 8 data size: (1672, 1999)\n",
      "Patient 8 label size: (1672,)\n",
      "\n",
      "\n",
      "Patient 9 data size: (224, 1999)\n",
      "Patient 9 label size: (224,)\n",
      "\n",
      "\n",
      "Patient 10 data size: (563, 1999)\n",
      "Patient 10 label size: (563,)\n",
      "\n",
      "\n"
     ]
    }
   ],
   "source": [
    "# Print shapes of training dataset\n",
    "for i in range(num_folds): \n",
    "    print(\"Patient \" + str(i+1) + \" data size:\", X_train[i].shape)\n",
    "    print(\"Patient \" + str(i+1) + \" label size:\", y_train[i].shape)\n",
    "    print('\\n')"
   ]
  },
  {
   "cell_type": "markdown",
   "metadata": {},
   "source": [
    "# Training cell-level classification"
   ]
  },
  {
   "cell_type": "markdown",
   "metadata": {},
   "source": [
    "## 1. Baseline classifier"
   ]
  },
  {
   "cell_type": "markdown",
   "metadata": {},
   "source": [
    "### Train and validate model"
   ]
  },
  {
   "cell_type": "code",
   "execution_count": 9,
   "metadata": {},
   "outputs": [
    {
     "name": "stdout",
     "output_type": "stream",
     "text": [
      "Fold 0\n",
      "Testing data size: (377, 1999)\n",
      "Testing label size: (377,)\n",
      "Training data size: (17204, 1999)\n",
      "Training label size: (17204,)\n"
     ]
    },
    {
     "name": "stderr",
     "output_type": "stream",
     "text": [
      "Warning: less than 75% gpu memory available for training. Free: 281.0625 Total: 16160.6875\n",
      "AUC is not implemented on GPU. Will use CPU for metric computation, this could significantly affect learning time\n"
     ]
    },
    {
     "name": "stdout",
     "output_type": "stream",
     "text": [
      "f1 score: 1.0\n",
      "Confusion Matrix\n",
      "[[377]]\n",
      "\n",
      "\n",
      "Fold 1\n",
      "Testing data size: (86, 1999)\n",
      "Testing label size: (86,)\n",
      "Training data size: (17495, 1999)\n",
      "Training label size: (17495,)\n"
     ]
    },
    {
     "name": "stderr",
     "output_type": "stream",
     "text": [
      "Warning: less than 75% gpu memory available for training. Free: 281.0625 Total: 16160.6875\n",
      "AUC is not implemented on GPU. Will use CPU for metric computation, this could significantly affect learning time\n"
     ]
    },
    {
     "name": "stdout",
     "output_type": "stream",
     "text": [
      "f1 score: 0.7259259259259259\n",
      "Confusion Matrix\n",
      "[[ 0  0]\n",
      " [37 49]]\n",
      "\n",
      "\n",
      "Fold 2\n",
      "Testing data size: (383, 1999)\n",
      "Testing label size: (383,)\n",
      "Training data size: (17198, 1999)\n",
      "Training label size: (17198,)\n"
     ]
    },
    {
     "name": "stderr",
     "output_type": "stream",
     "text": [
      "Warning: less than 75% gpu memory available for training. Free: 281.0625 Total: 16160.6875\n",
      "AUC is not implemented on GPU. Will use CPU for metric computation, this could significantly affect learning time\n"
     ]
    },
    {
     "name": "stdout",
     "output_type": "stream",
     "text": [
      "f1 score: 0.9986928104575163\n",
      "Confusion Matrix\n",
      "[[  0   0]\n",
      " [  1 382]]\n",
      "\n",
      "\n",
      "Fold 3\n",
      "Testing data size: (3858, 1999)\n",
      "Testing label size: (3858,)\n",
      "Training data size: (13723, 1999)\n",
      "Training label size: (13723,)\n"
     ]
    },
    {
     "name": "stderr",
     "output_type": "stream",
     "text": [
      "Warning: less than 75% gpu memory available for training. Free: 281.0625 Total: 16160.6875\n",
      "AUC is not implemented on GPU. Will use CPU for metric computation, this could significantly affect learning time\n"
     ]
    },
    {
     "name": "stdout",
     "output_type": "stream",
     "text": [
      "f1 score: 0.999611046285492\n",
      "Confusion Matrix\n",
      "[[   0    0    0]\n",
      " [   0    0    0]\n",
      " [   2    1 3855]]\n",
      "\n",
      "\n",
      "Fold 4\n",
      "Testing data size: (347, 1999)\n",
      "Testing label size: (347,)\n",
      "Training data size: (17234, 1999)\n",
      "Training label size: (17234,)\n"
     ]
    },
    {
     "name": "stderr",
     "output_type": "stream",
     "text": [
      "Warning: less than 75% gpu memory available for training. Free: 281.0625 Total: 16160.6875\n",
      "AUC is not implemented on GPU. Will use CPU for metric computation, this could significantly affect learning time\n"
     ]
    },
    {
     "name": "stdout",
     "output_type": "stream",
     "text": [
      "f1 score: 1.0\n",
      "Confusion Matrix\n",
      "[[347]]\n",
      "\n",
      "\n",
      "Fold 5\n",
      "Testing data size: (4818, 1999)\n",
      "Testing label size: (4818,)\n",
      "Training data size: (12763, 1999)\n",
      "Training label size: (12763,)\n"
     ]
    },
    {
     "name": "stderr",
     "output_type": "stream",
     "text": [
      "Warning: less than 75% gpu memory available for training. Free: 281.0625 Total: 16160.6875\n",
      "AUC is not implemented on GPU. Will use CPU for metric computation, this could significantly affect learning time\n"
     ]
    },
    {
     "name": "stdout",
     "output_type": "stream",
     "text": [
      "f1 score: 0.9289763254418137\n",
      "Confusion Matrix\n",
      "[[4179  639]\n",
      " [   0    0]]\n",
      "\n",
      "\n",
      "Fold 6\n",
      "Testing data size: (5253, 1999)\n",
      "Testing label size: (5253,)\n",
      "Training data size: (12328, 1999)\n",
      "Training label size: (12328,)\n"
     ]
    },
    {
     "name": "stderr",
     "output_type": "stream",
     "text": [
      "Warning: less than 75% gpu memory available for training. Free: 281.0625 Total: 16160.6875\n",
      "AUC is not implemented on GPU. Will use CPU for metric computation, this could significantly affect learning time\n"
     ]
    },
    {
     "name": "stdout",
     "output_type": "stream",
     "text": [
      "f1 score: 0.9995238548709648\n",
      "Confusion Matrix\n",
      "[[5248    4    1]\n",
      " [   0    0    0]\n",
      " [   0    0    0]]\n",
      "\n",
      "\n",
      "Fold 7\n",
      "Testing data size: (1672, 1999)\n",
      "Testing label size: (1672,)\n",
      "Training data size: (15909, 1999)\n",
      "Training label size: (15909,)\n"
     ]
    },
    {
     "name": "stderr",
     "output_type": "stream",
     "text": [
      "Warning: less than 75% gpu memory available for training. Free: 281.0625 Total: 16160.6875\n",
      "AUC is not implemented on GPU. Will use CPU for metric computation, this could significantly affect learning time\n"
     ]
    },
    {
     "name": "stdout",
     "output_type": "stream",
     "text": [
      "f1 score: 0.10645526613816533\n",
      "Confusion Matrix\n",
      "[[   0    0    0]\n",
      " [1573   94    5]\n",
      " [   0    0    0]]\n",
      "\n",
      "\n",
      "Fold 8\n",
      "Testing data size: (224, 1999)\n",
      "Testing label size: (224,)\n",
      "Training data size: (17357, 1999)\n",
      "Training label size: (17357,)\n"
     ]
    },
    {
     "name": "stderr",
     "output_type": "stream",
     "text": [
      "Warning: less than 75% gpu memory available for training. Free: 281.0625 Total: 16160.6875\n",
      "AUC is not implemented on GPU. Will use CPU for metric computation, this could significantly affect learning time\n"
     ]
    },
    {
     "name": "stdout",
     "output_type": "stream",
     "text": [
      "f1 score: 1.0\n",
      "Confusion Matrix\n",
      "[[224]]\n",
      "\n",
      "\n",
      "Fold 9\n",
      "Testing data size: (563, 1999)\n",
      "Testing label size: (563,)\n",
      "Training data size: (17018, 1999)\n",
      "Training label size: (17018,)\n"
     ]
    },
    {
     "name": "stderr",
     "output_type": "stream",
     "text": [
      "Warning: less than 75% gpu memory available for training. Free: 281.0625 Total: 16160.6875\n",
      "AUC is not implemented on GPU. Will use CPU for metric computation, this could significantly affect learning time\n"
     ]
    },
    {
     "name": "stdout",
     "output_type": "stream",
     "text": [
      "f1 score: 0.7734204793028323\n",
      "Confusion Matrix\n",
      "[[355 208]\n",
      " [  0   0]]\n",
      "\n",
      "\n"
     ]
    }
   ],
   "source": [
    "# Create lists to store results from each fold \n",
    "f1_values = []\n",
    "feature_importance_values = []\n",
    "\n",
    "# Perform 10-fold cross validation with random forest\n",
    "for i in range(num_folds):\n",
    "    print(\"Fold\", i) \n",
    "    X_cv_test = X_train[i]\n",
    "    y_cv_test = y_train[i]\n",
    "    print(\"Testing data size:\", X_cv_test.shape)\n",
    "    print(\"Testing label size:\", y_cv_test.shape) \n",
    "    \n",
    "    X_cv_train = X_train[:i] + X_train[i+1 :]\n",
    "    X_cv_train = np.concatenate(X_cv_train, axis=0) # convert list of np arrays to single np array\n",
    "    y_cv_train = y_train[:i] + y_train[i+1 :]\n",
    "    y_cv_train = np.concatenate(y_cv_train, axis=0)\n",
    "    print(\"Training data size:\", X_cv_train.shape)\n",
    "    print(\"Training label size:\", y_cv_train.shape) \n",
    "\n",
    "    # Build random forest model with whatever hyperparameters you want to use\n",
    "    clf = CatBoostClassifier(iterations=300, eval_metric='AUC', task_type=\"GPU\", logging_level='Silent', random_seed=0)\n",
    "    clf.fit(X_cv_train, y_cv_train)  # train the model using cross validation training set (9 patients)\n",
    "    cv_pred = clf.predict(X_cv_test)  # predict using cross validation testing set (1 patient)\n",
    "    \n",
    "    f1 = f1_score(y_cv_test, cv_pred, average='weighted')\n",
    "    f1_values.append(f1)\n",
    "    print(\"f1 score:\", f1)\n",
    "     \n",
    "    # Print confusion matrix\n",
    "    print(\"Confusion Matrix\") \n",
    "    print(confusion_matrix(y_cv_test, cv_pred))\n",
    "\n",
    "    print(\"\\n\") \n",
    "    \n",
    "    # Save feature importance values from each fold \n",
    "    feature_importance_values.append(clf.feature_importances_)\n"
   ]
  },
  {
   "cell_type": "markdown",
   "metadata": {},
   "source": [
    "### Calculate results"
   ]
  },
  {
   "cell_type": "code",
   "execution_count": 10,
   "metadata": {},
   "outputs": [
    {
     "name": "stdout",
     "output_type": "stream",
     "text": [
      "Final f1 score: 0.8532605708422711\n"
     ]
    }
   ],
   "source": [
    "# Calculate final performance metric\n",
    "f1_final = np.mean(f1_values)\n",
    "print(\"Final f1 score:\", f1_final)"
   ]
  },
  {
   "cell_type": "code",
   "execution_count": 11,
   "metadata": {},
   "outputs": [],
   "source": [
    "# Calculate and plot final feature importance scores\n",
    "feature_importance_final = np.mean(feature_importance_values, axis=0)\n",
    "feature_imp = pd.Series(feature_importance_final, index=feature_names).sort_values(ascending=False) # sort features by their feature importance score, in descending order\n",
    "top_feature_imp = feature_imp.head(15)"
   ]
  },
  {
   "cell_type": "code",
   "execution_count": 12,
   "metadata": {},
   "outputs": [
    {
     "name": "stderr",
     "output_type": "stream",
     "text": [
      "No artists with labels found to put in legend.  Note that artists whose label start with an underscore are ignored when legend() is called with no argument.\n"
     ]
    },
    {
     "data": {
      "image/png": "[encoded data removed]",
      "text/plain": [
       "<Figure size 640x480 with 1 Axes>"
      ]
     },
     "metadata": {},
     "output_type": "display_data"
    }
   ],
   "source": [
    "# Plot feature importance\n",
    "import seaborn as sns\n",
    "# %matplotlib inline\n",
    "sns.barplot(x=top_feature_imp, y=top_feature_imp.index) # creating a bar plot of feature importance\n",
    "\n",
    "# Add labels to the graph\n",
    "plt.xlabel('Feature Importance Score')\n",
    "plt.ylabel('Features')\n",
    "plt.title(\"Visualizing Important Features\")\n",
    "plt.legend()\n",
    "plt.show()"
   ]
  },
  {
   "cell_type": "code",
   "execution_count": 13,
   "metadata": {},
   "outputs": [
    {
     "data": {
      "image/png": "[encoded data removed]",
      "text/plain": [
       "<Figure size 640x480 with 1 Axes>"
      ]
     },
     "metadata": {},
     "output_type": "display_data"
    }
   ],
   "source": [
    "# Plot feature importance scores \n",
    "numbers = np.arange(len(feature_imp))\n",
    "plt.plot(numbers, feature_imp)\n",
    "plt.xlabel(\"Feature Number\")\n",
    "plt.ylabel(\"Feature Importance\")\n",
    "plt.title(\"Feature Importance Scores of Each Feature in Dataset\")\n",
    "plt.show()"
   ]
  },
  {
   "cell_type": "code",
   "execution_count": 14,
   "metadata": {},
   "outputs": [
    {
     "name": "stdout",
     "output_type": "stream",
     "text": [
      "Elbow point: 42\n"
     ]
    }
   ],
   "source": [
    "# Find exact elbow of the plot above \n",
    "# %pip install kneed\n",
    "from kneed import KneeLocator\n",
    "kn = KneeLocator(numbers, feature_imp, curve='convex', direction='decreasing')\n",
    "print(\"Elbow point:\", kn.knee)"
   ]
  },
  {
   "cell_type": "markdown",
   "metadata": {},
   "source": [
    "## 2. Classifier trained on top n features"
   ]
  },
  {
   "cell_type": "code",
   "execution_count": 15,
   "metadata": {},
   "outputs": [],
   "source": [
    "# Get features to retain\n",
    "df = pd.read_csv('split_data/test-data.csv')\n",
    "df = df.drop(columns=['Unnamed: 0'])\n",
    "keep_data = feature_imp.head(kn.knee)\n",
    "keep_names = list(keep_data.index)  # get names of the top n features to keep\n",
    "index = df.columns.get_indexer(keep_names)  # find index of the top n features in the dataset"
   ]
  },
  {
   "cell_type": "markdown",
   "metadata": {},
   "source": [
    "### Train and validate model"
   ]
  },
  {
   "cell_type": "code",
   "execution_count": 16,
   "metadata": {},
   "outputs": [
    {
     "name": "stdout",
     "output_type": "stream",
     "text": [
      "Fold 0\n",
      "Testing data size: (377, 42)\n",
      "Testing label size: (377,)\n",
      "Training data size: (17204, 42)\n",
      "Training label size: (17204,)\n",
      "f1 score: 1.0\n",
      "Confusion Matrix\n",
      "[[377]]\n",
      "\n",
      "\n",
      "Fold 1\n",
      "Testing data size: (86, 42)\n",
      "Testing label size: (86,)\n",
      "Training data size: (17495, 42)\n",
      "Training label size: (17495,)\n",
      "f1 score: 0.7972027972027972\n",
      "Confusion Matrix\n",
      "[[ 0  0]\n",
      " [29 57]]\n",
      "\n",
      "\n",
      "Fold 2\n",
      "Testing data size: (383, 42)\n",
      "Testing label size: (383,)\n",
      "Training data size: (17198, 42)\n",
      "Training label size: (17198,)\n",
      "f1 score: 0.9986928104575163\n",
      "Confusion Matrix\n",
      "[[  0   0]\n",
      " [  1 382]]\n",
      "\n",
      "\n",
      "Fold 3\n",
      "Testing data size: (3858, 42)\n",
      "Testing label size: (3858,)\n",
      "Training data size: (13723, 42)\n",
      "Training label size: (13723,)\n",
      "f1 score: 0.9997407311381903\n",
      "Confusion Matrix\n",
      "[[   0    0]\n",
      " [   2 3856]]\n",
      "\n",
      "\n",
      "Fold 4\n",
      "Testing data size: (347, 42)\n",
      "Testing label size: (347,)\n",
      "Training data size: (17234, 42)\n",
      "Training label size: (17234,)\n",
      "f1 score: 1.0\n",
      "Confusion Matrix\n",
      "[[347]]\n",
      "\n",
      "\n",
      "Fold 5\n",
      "Testing data size: (4818, 42)\n",
      "Testing label size: (4818,)\n",
      "Training data size: (12763, 42)\n",
      "Training label size: (12763,)\n",
      "f1 score: 0.9991690901537182\n",
      "Confusion Matrix\n",
      "[[4810    8]\n",
      " [   0    0]]\n",
      "\n",
      "\n",
      "Fold 6\n",
      "Testing data size: (5253, 42)\n",
      "Testing label size: (5253,)\n",
      "Training data size: (12328, 42)\n",
      "Training label size: (12328,)\n",
      "f1 score: 0.9997143673236218\n",
      "Confusion Matrix\n",
      "[[5250    2    1]\n",
      " [   0    0    0]\n",
      " [   0    0    0]]\n",
      "\n",
      "\n",
      "Fold 7\n",
      "Testing data size: (1672, 42)\n",
      "Testing label size: (1672,)\n",
      "Training data size: (15909, 42)\n",
      "Training label size: (15909,)\n",
      "f1 score: 0.589624630957402\n",
      "Confusion Matrix\n",
      "[[  0   0   0]\n",
      " [957 699  16]\n",
      " [  0   0   0]]\n",
      "\n",
      "\n",
      "Fold 8\n",
      "Testing data size: (224, 42)\n",
      "Testing label size: (224,)\n",
      "Training data size: (17357, 42)\n",
      "Training label size: (17357,)\n",
      "f1 score: 1.0\n",
      "Confusion Matrix\n",
      "[[224]]\n",
      "\n",
      "\n",
      "Fold 9\n",
      "Testing data size: (563, 42)\n",
      "Testing label size: (563,)\n",
      "Training data size: (17018, 42)\n",
      "Training label size: (17018,)\n",
      "f1 score: 0.8209424083769634\n",
      "Confusion Matrix\n",
      "[[392 171]\n",
      " [  0   0]]\n",
      "\n",
      "\n"
     ]
    }
   ],
   "source": [
    "f1_select_values = []\n",
    "feature_importance_select_values = []\n",
    "\n",
    "for i in range(num_folds):\n",
    "    print(\"Fold\", i) \n",
    "\n",
    "    # Cross validation testing data\n",
    "    X_select_cv_test = X_train[i]\n",
    "    y_select_cv_test = y_train[i]\n",
    "    X_select_cv_test = X_select_cv_test[:, index] # retain only the top n features in the data\n",
    "    print(\"Testing data size:\", X_select_cv_test.shape)\n",
    "    print(\"Testing label size:\", y_select_cv_test.shape) \n",
    "\n",
    "    # Cross validation training data\n",
    "    X_select_cv_train = X_train[:i] + X_train[i+1 :]\n",
    "    X_select_cv_train = np.concatenate(X_select_cv_train, axis=0) # convert list of np arrays to single np array\n",
    "    X_select_cv_train = X_select_cv_train[:, index]\n",
    "    y_select_cv_train = y_train[:i] + y_train[i+1 :]\n",
    "    y_select_cv_train = np.concatenate(y_select_cv_train, axis=0)\n",
    "    print(\"Training data size:\", X_select_cv_train.shape)\n",
    "    print(\"Training label size:\", y_select_cv_train.shape) \n",
    "\n",
    "    # Build random forest model with whatever hyperparameters you want to use\n",
    "    clf_select = CatBoostClassifier(iterations=800, eval_metric='AUC', task_type=\"CPU\", logging_level='Silent', random_seed=0)\n",
    "    clf_select.fit(X_select_cv_train, y_select_cv_train)  # train the model using cross validation training set (9 patients)\n",
    "    cv_select_pred = clf_select.predict(X_select_cv_test)  # predict using cross validation testing set (1 patient)\n",
    "\n",
    "    # Calculate f1 score \n",
    "    f1_select = f1_score(y_select_cv_test, cv_select_pred, average='weighted')\n",
    "    f1_select_values.append(f1_select)\n",
    "    print(\"f1 score:\", f1_select) \n",
    "    feature_importance_select_values.append(clf_select.feature_importances_)\n",
    "        \n",
    "    # Print confusion matrix\n",
    "    print(\"Confusion Matrix\") \n",
    "    print(confusion_matrix(y_select_cv_test, cv_select_pred))\n",
    "\n",
    "    print(\"\\n\") "
   ]
  },
  {
   "cell_type": "markdown",
   "metadata": {},
   "source": [
    "### Calculate results "
   ]
  },
  {
   "cell_type": "code",
   "execution_count": 17,
   "metadata": {},
   "outputs": [
    {
     "name": "stdout",
     "output_type": "stream",
     "text": [
      "Final f1 score: 0.9205086835610208\n"
     ]
    }
   ],
   "source": [
    "# Calculate final performance metric\n",
    "f1_select_final = np.mean(f1_select_values)\n",
    "print(\"Final f1 score:\", f1_select_final) "
   ]
  },
  {
   "cell_type": "code",
   "execution_count": 18,
   "metadata": {},
   "outputs": [
    {
     "name": "stderr",
     "output_type": "stream",
     "text": [
      "No artists with labels found to put in legend.  Note that artists whose label start with an underscore are ignored when legend() is called with no argument.\n"
     ]
    },
    {
     "data": {
      "image/png": "[encoded data removed]",
      "text/plain": [
       "<Figure size 640x480 with 1 Axes>"
      ]
     },
     "metadata": {},
     "output_type": "display_data"
    }
   ],
   "source": [
    "# Calculate and plot final feature importance scores\n",
    "feature_importance_select_final = np.mean(feature_importance_select_values, axis=0)\n",
    "feature_imp_select = pd.Series(feature_importance_select_final, index=keep_names).sort_values(ascending=False) # sort features by their feature importance score, in descending order\n",
    "top_feature_imp_select = feature_imp_select.head(15)\n",
    "\n",
    "# Plot feature importance\n",
    "import seaborn as sns\n",
    "# %matplotlib inline\n",
    "sns.barplot(x=top_feature_imp_select, y=top_feature_imp_select.index) # creating a bar plot of feature importance\n",
    "\n",
    "# Add labels to the graph\n",
    "plt.xlabel('Feature Importance Score')\n",
    "plt.ylabel('Features')\n",
    "plt.title(\"Visualizing Important Features\")\n",
    "plt.legend()\n",
    "plt.show()"
   ]
  },
  {
   "cell_type": "markdown",
   "metadata": {},
   "source": [
    "## Final cell-level classifier \n",
    "Best cell level classifier- catboost trained on top 39 features\n",
    "\n",
    "Evaluate performance on on entire training set (all 10 patients at once). Don't do cross validation. Run training on all 10 patients at once."
   ]
  },
  {
   "cell_type": "code",
   "execution_count": 19,
   "metadata": {},
   "outputs": [
    {
     "name": "stdout",
     "output_type": "stream",
     "text": [
      "Training data size: (17581, 42)\n",
      "Training label size: (17581,)\n"
     ]
    }
   ],
   "source": [
    "# Merge data for all patients into one training set instead of 10 indiviual ones \n",
    "X_train_total = np.concatenate(X_train, axis=0)\n",
    "X_train_total = X_train_total[:, index]\n",
    "y_train_total = np.concatenate(y_train, axis=0)\n",
    "print(\"Training data size:\", X_train_total.shape)\n",
    "print(\"Training label size:\", y_train_total.shape)"
   ]
  },
  {
   "cell_type": "code",
   "execution_count": 20,
   "metadata": {},
   "outputs": [
    {
     "data": {
      "text/plain": [
       "<catboost.core.CatBoostClassifier at 0x7fbcd34069d0>"
      ]
     },
     "execution_count": 20,
     "metadata": {},
     "output_type": "execute_result"
    }
   ],
   "source": [
    "# Perform training \n",
    "clf_final = CatBoostClassifier(iterations=1400, eval_metric='AUC', task_type=\"CPU\", logging_level='Silent', random_seed=0)\n",
    "clf_final.fit(X_train_total, y_train_total)"
   ]
  },
  {
   "cell_type": "markdown",
   "metadata": {},
   "source": [
    "## External Validation"
   ]
  },
  {
   "cell_type": "code",
   "execution_count": 21,
   "metadata": {},
   "outputs": [],
   "source": [
    "X_test_trim = X_test[:, index]\n",
    "y_pred = clf_final.predict(X_test_trim) # predict one patient at a time, change clf to something else if needed"
   ]
  },
  {
   "cell_type": "code",
   "execution_count": 22,
   "metadata": {},
   "outputs": [
    {
     "name": "stdout",
     "output_type": "stream",
     "text": [
      "Final f1 score: 0.9820096514892722\n"
     ]
    }
   ],
   "source": [
    "# Calculate final performance metric\n",
    "f1_test = f1_score(y_test, y_pred, labels=None, pos_label=1, average='weighted', sample_weight=None, zero_division='warn')\n",
    "print(\"Final f1 score:\", f1_test)"
   ]
  },
  {
   "cell_type": "code",
   "execution_count": 23,
   "metadata": {},
   "outputs": [
    {
     "name": "stderr",
     "output_type": "stream",
     "text": [
      "/home/mainuser/.local/lib/python3.8/site-packages/sklearn/utils/deprecation.py:87: FutureWarning: Function plot_confusion_matrix is deprecated; Function `plot_confusion_matrix` is deprecated in 1.0 and will be removed in 1.2. Use one of the class methods: ConfusionMatrixDisplay.from_predictions or ConfusionMatrixDisplay.from_estimator.\n",
      "  warnings.warn(msg, category=FutureWarning)\n"
     ]
    },
    {
     "data": {
      "image/png": "[encoded data removed]",
      "text/plain": [
       "<Figure size 640x480 with 2 Axes>"
      ]
     },
     "metadata": {},
     "output_type": "display_data"
    }
   ],
   "source": [
    "plot_confusion_matrix(clf_final, X_test_trim, y_test)\n",
    "plt.show()"
   ]
  },
  {
   "cell_type": "markdown",
   "metadata": {},
   "source": [
    "# AUC-ROC"
   ]
  },
  {
   "cell_type": "code",
   "execution_count": 24,
   "metadata": {},
   "outputs": [
    {
     "name": "stdout",
     "output_type": "stream",
     "text": [
      "AUC-ROC - One vs Rest : 0.9996349589863646\n"
     ]
    }
   ],
   "source": [
    "y_pred_prob = clf_final.predict_proba(X_test_trim)\n",
    "\n",
    "print('AUC-ROC - One vs Rest :', metrics.roc_auc_score(y_test, y_pred_prob, average='weighted', multi_class='ovr'))\n",
    "\n",
    "#print('AUC-ROC - One vs One :', metrics.roc_auc_score(y_test, y_pred_prob, average='weighted', multi_class='ovo'))"
   ]
  },
  {
   "cell_type": "code",
   "execution_count": 25,
   "metadata": {},
   "outputs": [
    {
     "data": {
      "image/png": "[encoded data removed]",
      "text/plain": [
       "<Figure size 640x480 with 1 Axes>"
      ]
     },
     "metadata": {},
     "output_type": "display_data"
    }
   ],
   "source": [
    "# roc curve\n",
    "fpr = {}\n",
    "tpr = {}\n",
    "thresh ={}\n",
    "\n",
    "n_class = 3\n",
    "\n",
    "for i in range(n_class):    \n",
    "    fpr[i], tpr[i], thresh[i] = metrics.roc_curve(y_test, y_pred_prob[:,i], pos_label=i)\n",
    "    \n",
    "# plotting    \n",
    "plt.plot(fpr[0], tpr[0], linestyle='--',color='orange', label='Normal vs Rest')\n",
    "plt.plot(fpr[1], tpr[1], linestyle='--',color='green', label='Mild vs Rest')\n",
    "plt.plot(fpr[2], tpr[2], linestyle='--',color='blue', label='Severe vs Rest')\n",
    "plt.title('AUC-ROC curve')\n",
    "plt.xlabel('False Positive Rate')\n",
    "plt.ylabel('True Positive rate')\n",
    "plt.legend(loc='best')\n",
    "plt.show()"
   ]
  },
  {
   "cell_type": "markdown",
   "metadata": {},
   "source": [
    "#### Score for each Severity"
   ]
  },
  {
   "cell_type": "code",
   "execution_count": 26,
   "metadata": {},
   "outputs": [
    {
     "name": "stdout",
     "output_type": "stream",
     "text": [
      "AUC-ROC Score - Normal vs Rest : 0.9871376083266327\n"
     ]
    }
   ],
   "source": [
    "true_array = y_test\n",
    "true_array = np.where(true_array == 2, 1, true_array)\n",
    "pred_array = y_pred\n",
    "pred_array = np.where(pred_array == 2, 1, pred_array)\n",
    "print('AUC-ROC Score - Normal vs Rest :', metrics.roc_auc_score(true_array, pred_array, average='weighted'))"
   ]
  },
  {
   "cell_type": "code",
   "execution_count": 27,
   "metadata": {},
   "outputs": [
    {
     "name": "stdout",
     "output_type": "stream",
     "text": [
      "AUC-ROC Score - Mild vs Rest : 0.9678923935869594\n"
     ]
    }
   ],
   "source": [
    "true_array = y_test\n",
    "true_array = np.where(true_array == 2, 0, true_array)\n",
    "pred_array = y_pred\n",
    "pred_array = np.where(pred_array == 2, 0, pred_array)\n",
    "print('AUC-ROC Score - Mild vs Rest :', metrics.roc_auc_score(true_array, pred_array, average='weighted'))"
   ]
  },
  {
   "cell_type": "code",
   "execution_count": 28,
   "metadata": {},
   "outputs": [
    {
     "name": "stdout",
     "output_type": "stream",
     "text": [
      "AUC-ROC Score - Severe vs Rest : 1.0\n"
     ]
    }
   ],
   "source": [
    "true_array = y_test\n",
    "true_array = np.where(true_array == 1, 0, true_array)\n",
    "true_array = np.where(true_array == 2, 1, true_array)\n",
    "\n",
    "pred_array = y_pred\n",
    "pred_array = np.where(pred_array == 1, 0, pred_array)\n",
    "pred_array = np.where(pred_array == 2, 1, pred_array)\n",
    "\n",
    "print('AUC-ROC Score - Severe vs Rest :', metrics.roc_auc_score(true_array, pred_array, average='weighted'))"
   ]
  },
  {
   "cell_type": "markdown",
   "metadata": {},
   "source": [
    "# MCC"
   ]
  },
  {
   "cell_type": "code",
   "execution_count": 29,
   "metadata": {},
   "outputs": [
    {
     "name": "stdout",
     "output_type": "stream",
     "text": [
      "MCC value: 0.9718961617970057\n"
     ]
    }
   ],
   "source": [
    "mcc = metrics.matthews_corrcoef(y_test, y_pred)\n",
    "print(\"MCC value:\", mcc)"
   ]
  }
 ],
 "metadata": {
  "kernelspec": {
   "display_name": "Python 3",
   "language": "python",
   "name": "python3"
  },
  "language_info": {
   "codemirror_mode": {
    "name": "ipython",
    "version": 3
   },
   "file_extension": ".py",
   "mimetype": "text/x-python",
   "name": "python",
   "nbconvert_exporter": "python",
   "pygments_lexer": "ipython3",
   "version": "3.8.10"
  }
 },
 "nbformat": 4,
 "nbformat_minor": 4
}
