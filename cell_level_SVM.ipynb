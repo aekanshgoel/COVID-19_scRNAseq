{
 "cells": [
  {
   "cell_type": "markdown",
   "metadata": {},
   "source": [
    "# SVM classification model for predicting COVID-19 severity using single-cell RNA sequencing data \n",
    "\n",
    "## Code written by: Sarah Bi\n",
    "\n",
    "April 22, 2022 \n",
    "\n",
    "BMED 8813 BHI"
   ]
  },
  {
   "cell_type": "markdown",
   "metadata": {},
   "source": [
    "## Import libaries"
   ]
  },
  {
   "cell_type": "code",
   "execution_count": 1,
   "metadata": {},
   "outputs": [],
   "source": [
    "import numpy as np\n",
    "import pandas as pd\n",
    "from matplotlib import pyplot as plt\n",
    "from sklearn.model_selection import train_test_split # to split data into training and testing\n",
    "from sklearn.svm import SVC\n",
    "from sklearn import metrics # to calculate accuracy of model\n",
    "import collections\n",
    "from sklearn.metrics import classification_report\n",
    "from sklearn.metrics import confusion_matrix\n",
    "from sklearn.metrics import f1_score"
   ]
  },
  {
   "cell_type": "markdown",
   "metadata": {},
   "source": [
    "## Load data"
   ]
  },
  {
   "cell_type": "markdown",
   "metadata": {},
   "source": [
    "### Load testing data"
   ]
  },
  {
   "cell_type": "code",
   "execution_count": 2,
   "metadata": {},
   "outputs": [],
   "source": [
    "# Load testing data (3 patients)\n",
    "X_test = pd.read_csv('split_data/test-data.csv')\n",
    "y_test = pd.read_csv('split_data/test-data-labels.csv')"
   ]
  },
  {
   "cell_type": "code",
   "execution_count": 3,
   "metadata": {},
   "outputs": [],
   "source": [
    "# Convert the text labels to numerical labels\n",
    "# In this case, we will say 0=normal, 1=mild, 2=severe\n",
    "y_test['type']=y_test['type'].replace('Normal',0)\n",
    "y_test['type']=y_test['type'].replace('Mild', 1)\n",
    "y_test['type']=y_test['type'].replace('Severe', 2)"
   ]
  },
  {
   "cell_type": "code",
   "execution_count": 4,
   "metadata": {},
   "outputs": [],
   "source": [
    "# Save feature names before turning dataframe into numpy array \n",
    "feature_names = list(X_test.drop(columns=['Unnamed: 0']).columns)"
   ]
  },
  {
   "cell_type": "code",
   "execution_count": 5,
   "metadata": {},
   "outputs": [],
   "source": [
    "# Drop unnecessary columns\n",
    "X_test = np.array(X_test.drop(columns=['Unnamed: 0'])) # dataset is all the data expect for the first column containing the identifier information\n",
    "y_test = np.array(y_test.drop(columns=['Unnamed: 0']))\n",
    "y_test = np.reshape(y_test, (y_test.shape[0],)) # reshape the data to be (n,) instead of (n,1)"
   ]
  },
  {
   "cell_type": "code",
   "execution_count": 6,
   "metadata": {},
   "outputs": [
    {
     "name": "stdout",
     "output_type": "stream",
     "text": [
      "Testing data size: (5608, 1999)\n",
      "Testing labels size: (5608,)\n"
     ]
    }
   ],
   "source": [
    "# Print shapes of testing dataset \n",
    "print(\"Testing data size:\", X_test.shape)\n",
    "print(\"Testing labels size:\", y_test.shape)"
   ]
  },
  {
   "cell_type": "markdown",
   "metadata": {},
   "source": [
    "### Load training data "
   ]
  },
  {
   "cell_type": "code",
   "execution_count": 7,
   "metadata": {},
   "outputs": [],
   "source": [
    "# Load training data (one patient at a time)\n",
    "num_folds = 10\n",
    "X_train = [[] for x in range(num_folds)] # make list of arrays to hold X data for each patient\n",
    "y_train = [[] for x in range(num_folds)] # make list of arrays to hold y data for each patient\n",
    "for i in range(num_folds):\n",
    "    X_filename = 'split_data/train-data_' + str(i+1) + '.csv'\n",
    "    y_filename = 'split_data/train-data-labels_' + str(i+1) + '.csv'\n",
    "\n",
    "    X_train_temp = pd.read_csv(X_filename)\n",
    "    y_train_temp = pd.read_csv(y_filename)\n",
    "\n",
    "    # Convert the text labels to numerical labels\n",
    "    # In this case, we will say 0=normal, 1=mild, 2=severe\n",
    "    y_train_temp['type'] = y_train_temp['type'].replace('Normal', 0)\n",
    "    y_train_temp['type'] = y_train_temp['type'].replace('Mild', 1)\n",
    "    y_train_temp['type'] = y_train_temp['type'].replace('Severe', 2)\n",
    "\n",
    "    # Drop unnecessary columns\n",
    "    X_train_temp = np.array(X_train_temp.drop(columns=['Unnamed: 0']))  # dataset is all the data expect for the first column containing the identifier information\n",
    "    y_train_temp = np.array(y_train_temp.drop(columns=['Unnamed: 0']))\n",
    "    y_train_temp = np.reshape(y_train_temp, (y_train_temp.shape[0],))  # reshape the data to be (n,) instead of (n,1)\n",
    "\n",
    "    X_train[i] = X_train_temp\n",
    "    y_train[i] = y_train_temp"
   ]
  },
  {
   "cell_type": "code",
   "execution_count": 8,
   "metadata": {},
   "outputs": [
    {
     "name": "stdout",
     "output_type": "stream",
     "text": [
      "Patient 1 data size: (377, 1999)\n",
      "Patient 1 label size: (377,)\n",
      "\n",
      "\n",
      "Patient 2 data size: (86, 1999)\n",
      "Patient 2 label size: (86,)\n",
      "\n",
      "\n",
      "Patient 3 data size: (383, 1999)\n",
      "Patient 3 label size: (383,)\n",
      "\n",
      "\n",
      "Patient 4 data size: (3858, 1999)\n",
      "Patient 4 label size: (3858,)\n",
      "\n",
      "\n",
      "Patient 5 data size: (347, 1999)\n",
      "Patient 5 label size: (347,)\n",
      "\n",
      "\n",
      "Patient 6 data size: (4818, 1999)\n",
      "Patient 6 label size: (4818,)\n",
      "\n",
      "\n",
      "Patient 7 data size: (5253, 1999)\n",
      "Patient 7 label size: (5253,)\n",
      "\n",
      "\n",
      "Patient 8 data size: (1672, 1999)\n",
      "Patient 8 label size: (1672,)\n",
      "\n",
      "\n",
      "Patient 9 data size: (224, 1999)\n",
      "Patient 9 label size: (224,)\n",
      "\n",
      "\n",
      "Patient 10 data size: (563, 1999)\n",
      "Patient 10 label size: (563,)\n",
      "\n",
      "\n"
     ]
    }
   ],
   "source": [
    "# Print shapes of training dataset\n",
    "for i in range(num_folds): \n",
    "    print(\"Patient \" + str(i+1) + \" data size:\", X_train[i].shape)\n",
    "    print(\"Patient \" + str(i+1) + \" label size:\", y_train[i].shape)\n",
    "    print('\\n')"
   ]
  },
  {
   "cell_type": "markdown",
   "metadata": {},
   "source": [
    "# Training cell-level classification"
   ]
  },
  {
   "cell_type": "markdown",
   "metadata": {},
   "source": [
    "## 1. Baseline classifier"
   ]
  },
  {
   "cell_type": "markdown",
   "metadata": {},
   "source": [
    "### Train and validate model"
   ]
  },
  {
   "cell_type": "code",
   "execution_count": 9,
   "metadata": {},
   "outputs": [
    {
     "name": "stdout",
     "output_type": "stream",
     "text": [
      "Fold 0\n",
      "Testing data size: (377, 1999)\n",
      "Testing label size: (377,)\n",
      "Training data size: (17204, 1999)\n",
      "Training label size: (17204,)\n",
      "f1 score: 0.6511627906976745\n",
      "Real labels: Counter({2: 377})\n",
      "Predicted labels: Counter({2: 182, 0: 106, 1: 89})\n",
      "Confusion Matrix\n",
      "[[  0   0   0]\n",
      " [  0   0   0]\n",
      " [106  89 182]]\n",
      "\n",
      "\n",
      "Fold 1\n",
      "Testing data size: (86, 1999)\n",
      "Testing label size: (86,)\n",
      "Training data size: (17495, 1999)\n",
      "Training label size: (17495,)\n",
      "f1 score: 0.49122807017543857\n",
      "Real labels: Counter({1: 86})\n",
      "Predicted labels: Counter({0: 32, 1: 28, 2: 26})\n",
      "Confusion Matrix\n",
      "[[ 0  0  0]\n",
      " [32 28 26]\n",
      " [ 0  0  0]]\n",
      "\n",
      "\n",
      "Fold 2\n",
      "Testing data size: (383, 1999)\n",
      "Testing label size: (383,)\n",
      "Training data size: (17198, 1999)\n",
      "Training label size: (17198,)\n",
      "f1 score: 0.7275747508305647\n",
      "Real labels: Counter({2: 383})\n",
      "Predicted labels: Counter({2: 219, 0: 105, 1: 59})\n",
      "Confusion Matrix\n",
      "[[  0   0   0]\n",
      " [  0   0   0]\n",
      " [105  59 219]]\n",
      "\n",
      "\n",
      "Fold 3\n",
      "Testing data size: (3858, 1999)\n",
      "Testing label size: (3858,)\n",
      "Training data size: (13723, 1999)\n",
      "Training label size: (13723,)\n",
      "f1 score: 0.4991246839136355\n",
      "Real labels: Counter({2: 3858})\n",
      "Predicted labels: Counter({0: 1479, 2: 1283, 1: 1096})\n",
      "Confusion Matrix\n",
      "[[   0    0    0]\n",
      " [   0    0    0]\n",
      " [1479 1096 1283]]\n",
      "\n",
      "\n",
      "Fold 4\n",
      "Testing data size: (347, 1999)\n",
      "Testing label size: (347,)\n",
      "Training data size: (17234, 1999)\n",
      "Training label size: (17234,)\n",
      "f1 score: 0.42986425339366513\n",
      "Real labels: Counter({2: 347})\n",
      "Predicted labels: Counter({0: 140, 1: 112, 2: 95})\n",
      "Confusion Matrix\n",
      "[[  0   0   0]\n",
      " [  0   0   0]\n",
      " [140 112  95]]\n",
      "\n",
      "\n",
      "Fold 5\n",
      "Testing data size: (4818, 1999)\n",
      "Testing label size: (4818,)\n",
      "Training data size: (12763, 1999)\n",
      "Training label size: (12763,)\n",
      "f1 score: 0.7387434554973822\n",
      "Real labels: Counter({0: 4818})\n",
      "Predicted labels: Counter({0: 2822, 1: 1461, 2: 535})\n",
      "Confusion Matrix\n",
      "[[2822 1461  535]\n",
      " [   0    0    0]\n",
      " [   0    0    0]]\n",
      "\n",
      "\n",
      "Fold 6\n",
      "Testing data size: (5253, 1999)\n",
      "Testing label size: (5253,)\n",
      "Training data size: (12328, 1999)\n",
      "Training label size: (12328,)\n",
      "f1 score: 0.7838870239611068\n",
      "Real labels: Counter({0: 5253})\n",
      "Predicted labels: Counter({0: 3386, 1: 1320, 2: 547})\n",
      "Confusion Matrix\n",
      "[[3386 1320  547]\n",
      " [   0    0    0]\n",
      " [   0    0    0]]\n",
      "\n",
      "\n",
      "Fold 7\n",
      "Testing data size: (1672, 1999)\n",
      "Testing label size: (1672,)\n",
      "Training data size: (15909, 1999)\n",
      "Training label size: (15909,)\n",
      "f1 score: 0.07262247838616716\n",
      "Real labels: Counter({1: 1672})\n",
      "Predicted labels: Counter({0: 1124, 2: 485, 1: 63})\n",
      "Confusion Matrix\n",
      "[[   0    0    0]\n",
      " [1124   63  485]\n",
      " [   0    0    0]]\n",
      "\n",
      "\n",
      "Fold 8\n",
      "Testing data size: (224, 1999)\n",
      "Testing label size: (224,)\n",
      "Training data size: (17357, 1999)\n",
      "Training label size: (17357,)\n",
      "f1 score: 0.6257668711656442\n",
      "Real labels: Counter({2: 224})\n",
      "Predicted labels: Counter({2: 102, 1: 61, 0: 61})\n",
      "Confusion Matrix\n",
      "[[  0   0   0]\n",
      " [  0   0   0]\n",
      " [ 61  61 102]]\n",
      "\n",
      "\n",
      "Fold 9\n",
      "Testing data size: (563, 1999)\n",
      "Testing label size: (563,)\n",
      "Training data size: (17018, 1999)\n",
      "Training label size: (17018,)\n",
      "f1 score: 0.7012687427912342\n",
      "Real labels: Counter({0: 563})\n",
      "Predicted labels: Counter({0: 304, 1: 179, 2: 80})\n",
      "Confusion Matrix\n",
      "[[304 179  80]\n",
      " [  0   0   0]\n",
      " [  0   0   0]]\n",
      "\n",
      "\n"
     ]
    }
   ],
   "source": [
    "# Create lists to store results from each fold \n",
    "f1_values = []\n",
    "feature_importance_values = []\n",
    "\n",
    "# Perform 10-fold cross validation with random forest\n",
    "for i in range(num_folds):\n",
    "    print(\"Fold\", i) \n",
    "    X_cv_test = X_train[i]\n",
    "    y_cv_test = y_train[i]\n",
    "    print(\"Testing data size:\", X_cv_test.shape)\n",
    "    print(\"Testing label size:\", y_cv_test.shape) \n",
    "    \n",
    "    X_cv_train = X_train[:i] + X_train[i+1 :]\n",
    "    X_cv_train = np.concatenate(X_cv_train, axis=0) # convert list of np arrays to single np array\n",
    "    y_cv_train = y_train[:i] + y_train[i+1 :]\n",
    "    y_cv_train = np.concatenate(y_cv_train, axis=0)\n",
    "    print(\"Training data size:\", X_cv_train.shape)\n",
    "    print(\"Training label size:\", y_cv_train.shape) \n",
    "\n",
    "    # Build SVC model\n",
    "    # clf = LinearSVC(dual=False, class_weight='balanced') # create SVC classifier object\n",
    "    clf = SVC(kernel='linear', class_weight='balanced')\n",
    "    clf.fit(X_cv_train, y_cv_train)  # train the model using cross validation training set (9 patients)\n",
    "    cv_pred = clf.predict(X_cv_test)  # predict using cross validation testing set (1 patient)\n",
    "    \n",
    "    # mcc = metrics.matthews_corrcoef(y_cv_test, cv_pred)\n",
    "    # mcc_values.append(mcc)\n",
    "    f1 = f1_score(y_cv_test, cv_pred, average='weighted')\n",
    "    f1_values.append(f1)\n",
    "    print(\"f1 score:\", f1) \n",
    "\n",
    "    # Print other metrics\n",
    "    # target_names = ['Label 0 (Normal)', 'Label 1 (Mild)', 'Label 2 (Severe)']\n",
    "    # print(\"Classification Report\") \n",
    "    # print(classification_report(y_cv_test, cv_pred, target_names=target_names))\n",
    "    \n",
    "    print(\"Real labels:\", collections.Counter(y_cv_test)) \n",
    "    print(\"Predicted labels:\", collections.Counter(cv_pred)) \n",
    "    \n",
    "    # Print confusion matrix\n",
    "    print(\"Confusion Matrix\") \n",
    "    print(confusion_matrix(y_cv_test, cv_pred))\n",
    "\n",
    "    print(\"\\n\") \n",
    "    \n",
    "    # Save feature importance values from each fold \n",
    "    feature_importance_values.append(np.mean([clf.coef_[0], clf.coef_[1], clf.coef_[2]], axis=0))\n"
   ]
  },
  {
   "cell_type": "markdown",
   "metadata": {},
   "source": [
    "### Calculate results"
   ]
  },
  {
   "cell_type": "code",
   "execution_count": 10,
   "metadata": {},
   "outputs": [
    {
     "name": "stdout",
     "output_type": "stream",
     "text": [
      "Final f1 score: 0.5721243120812514\n"
     ]
    }
   ],
   "source": [
    "# Calculate final performance metric\n",
    "f1_final = np.mean(f1_values)\n",
    "print(\"Final f1 score:\", f1_final) "
   ]
  },
  {
   "cell_type": "code",
   "execution_count": 11,
   "metadata": {},
   "outputs": [],
   "source": [
    "# Calculate and plot final feature importance scores\n",
    "feature_importance_final = np.mean(feature_importance_values, axis=0)\n",
    "feature_imp = pd.Series(feature_importance_final, index=feature_names).sort_values(ascending=False) # sort features by their feature importance score, in descending order\n",
    "top_feature_imp = feature_imp.head(15)"
   ]
  },
  {
   "cell_type": "code",
   "execution_count": 12,
   "metadata": {},
   "outputs": [
    {
     "name": "stderr",
     "output_type": "stream",
     "text": [
      "No artists with labels found to put in legend.  Note that artists whose label start with an underscore are ignored when legend() is called with no argument.\n"
     ]
    },
    {
     "data": {
      "image/png": "[encoded data removed]",
      "text/plain": [
       "<Figure size 640x480 with 1 Axes>"
      ]
     },
     "metadata": {},
     "output_type": "display_data"
    }
   ],
   "source": [
    "# Plot feature importance\n",
    "import seaborn as sns\n",
    "# %matplotlib inline\n",
    "sns.barplot(x=top_feature_imp, y=top_feature_imp.index) # creating a bar plot of feature importance\n",
    "\n",
    "# Add labels to the graph\n",
    "plt.xlabel('Feature Importance Score')\n",
    "plt.ylabel('Features')\n",
    "plt.title(\"Visualizing Important Features\")\n",
    "plt.legend()\n",
    "plt.show()"
   ]
  },
  {
   "cell_type": "code",
   "execution_count": 13,
   "metadata": {},
   "outputs": [
    {
     "data": {
      "image/png": "[encoded data removed]",
      "text/plain": [
       "<Figure size 640x480 with 1 Axes>"
      ]
     },
     "metadata": {},
     "output_type": "display_data"
    }
   ],
   "source": [
    "# Plot feature importance scores \n",
    "numbers = np.arange(len(feature_imp))\n",
    "plt.plot(numbers, feature_imp)\n",
    "plt.xlabel(\"Feature Number\")\n",
    "plt.ylabel(\"Feature Importance\")\n",
    "plt.title(\"Feature Importance Scores of Each Feature in Dataset\")\n",
    "plt.show()"
   ]
  },
  {
   "cell_type": "code",
   "execution_count": 14,
   "metadata": {},
   "outputs": [
    {
     "name": "stdout",
     "output_type": "stream",
     "text": [
      "Elbow point: 41\n"
     ]
    }
   ],
   "source": [
    "# Find exact elbow of the plot above \n",
    "# %pip install kneed\n",
    "from kneed import KneeLocator\n",
    "kn = KneeLocator(numbers, feature_imp, curve='convex', direction='decreasing')\n",
    "print(\"Elbow point:\", kn.knee)"
   ]
  },
  {
   "cell_type": "markdown",
   "metadata": {},
   "source": [
    "## 2. Classifier trained on top n features"
   ]
  },
  {
   "cell_type": "code",
   "execution_count": 15,
   "metadata": {},
   "outputs": [],
   "source": [
    "# Get features to retain\n",
    "df = pd.read_csv('split_data/test-data.csv')\n",
    "df = df.drop(columns=['Unnamed: 0'])\n",
    "keep_data = feature_imp.head(kn.knee)\n",
    "keep_names = list(keep_data.index)  # get names of the top n features to keep\n",
    "index = df.columns.get_indexer(keep_names)  # find index of the top n features in the dataset"
   ]
  },
  {
   "cell_type": "markdown",
   "metadata": {},
   "source": [
    "### Train and validate model"
   ]
  },
  {
   "cell_type": "code",
   "execution_count": 16,
   "metadata": {},
   "outputs": [
    {
     "name": "stdout",
     "output_type": "stream",
     "text": [
      "Fold 0\n",
      "Testing data size: (377, 41)\n",
      "Testing label size: (377,)\n",
      "Training data size: (17204, 41)\n",
      "Training label size: (17204,)\n",
      "f1 score: 0.8796433878157505\n",
      "Real labels: Counter({2: 377})\n",
      "Predicted labels: Counter({2: 296, 1: 55, 0: 26})\n",
      "Confusion Matrix\n",
      "[[  0   0   0]\n",
      " [  0   0   0]\n",
      " [ 26  55 296]]\n",
      "\n",
      "\n",
      "Fold 1\n",
      "Testing data size: (86, 41)\n",
      "Testing label size: (86,)\n",
      "Training data size: (17495, 41)\n",
      "Training label size: (17495,)\n",
      "f1 score: 0.5043478260869565\n",
      "Real labels: Counter({1: 86})\n",
      "Predicted labels: Counter({2: 37, 1: 29, 0: 20})\n",
      "Confusion Matrix\n",
      "[[ 0  0  0]\n",
      " [20 29 37]\n",
      " [ 0  0  0]]\n",
      "\n",
      "\n",
      "Fold 2\n",
      "Testing data size: (383, 41)\n",
      "Testing label size: (383,)\n",
      "Training data size: (17198, 41)\n",
      "Training label size: (17198,)\n",
      "f1 score: 0.9286713286713287\n",
      "Real labels: Counter({2: 383})\n",
      "Predicted labels: Counter({2: 332, 1: 26, 0: 25})\n",
      "Confusion Matrix\n",
      "[[  0   0   0]\n",
      " [  0   0   0]\n",
      " [ 25  26 332]]\n",
      "\n",
      "\n",
      "Fold 3\n",
      "Testing data size: (3858, 41)\n",
      "Testing label size: (3858,)\n",
      "Training data size: (13723, 41)\n",
      "Training label size: (13723,)\n",
      "f1 score: 0.9221958374074591\n",
      "Real labels: Counter({2: 3858})\n",
      "Predicted labels: Counter({2: 3301, 1: 471, 0: 86})\n",
      "Confusion Matrix\n",
      "[[   0    0    0]\n",
      " [   0    0    0]\n",
      " [  86  471 3301]]\n",
      "\n",
      "\n",
      "Fold 4\n",
      "Testing data size: (347, 41)\n",
      "Testing label size: (347,)\n",
      "Training data size: (17234, 41)\n",
      "Training label size: (17234,)\n",
      "f1 score: 0.7562724014336917\n",
      "Real labels: Counter({2: 347})\n",
      "Predicted labels: Counter({2: 211, 0: 74, 1: 62})\n",
      "Confusion Matrix\n",
      "[[  0   0   0]\n",
      " [  0   0   0]\n",
      " [ 74  62 211]]\n",
      "\n",
      "\n",
      "Fold 5\n",
      "Testing data size: (4818, 41)\n",
      "Testing label size: (4818,)\n",
      "Training data size: (12763, 41)\n",
      "Training label size: (12763,)\n",
      "f1 score: 0.6836065573770492\n",
      "Real labels: Counter({0: 4818})\n",
      "Predicted labels: Counter({0: 2502, 1: 1402, 2: 914})\n",
      "Confusion Matrix\n",
      "[[2502 1402  914]\n",
      " [   0    0    0]\n",
      " [   0    0    0]]\n",
      "\n",
      "\n",
      "Fold 6\n",
      "Testing data size: (5253, 41)\n",
      "Testing label size: (5253,)\n",
      "Training data size: (12328, 41)\n",
      "Training label size: (12328,)\n",
      "f1 score: 0.7471977104698306\n",
      "Real labels: Counter({0: 5253})\n",
      "Predicted labels: Counter({0: 3133, 1: 1372, 2: 748})\n",
      "Confusion Matrix\n",
      "[[3133 1372  748]\n",
      " [   0    0    0]\n",
      " [   0    0    0]]\n",
      "\n",
      "\n",
      "Fold 7\n",
      "Testing data size: (1672, 41)\n",
      "Testing label size: (1672,)\n",
      "Training data size: (15909, 41)\n",
      "Training label size: (15909,)\n",
      "f1 score: 0.39385206532180594\n",
      "Real labels: Counter({1: 1672})\n",
      "Predicted labels: Counter({0: 752, 2: 510, 1: 410})\n",
      "Confusion Matrix\n",
      "[[  0   0   0]\n",
      " [752 410 510]\n",
      " [  0   0   0]]\n",
      "\n",
      "\n",
      "Fold 8\n",
      "Testing data size: (224, 41)\n",
      "Testing label size: (224,)\n",
      "Training data size: (17357, 41)\n",
      "Training label size: (17357,)\n",
      "f1 score: 0.8938271604938272\n",
      "Real labels: Counter({2: 224})\n",
      "Predicted labels: Counter({2: 181, 0: 25, 1: 18})\n",
      "Confusion Matrix\n",
      "[[  0   0   0]\n",
      " [  0   0   0]\n",
      " [ 25  18 181]]\n",
      "\n",
      "\n",
      "Fold 9\n",
      "Testing data size: (563, 41)\n",
      "Testing label size: (563,)\n",
      "Training data size: (17018, 41)\n",
      "Training label size: (17018,)\n",
      "f1 score: 0.6579261025029797\n",
      "Real labels: Counter({0: 563})\n",
      "Predicted labels: Counter({0: 276, 2: 157, 1: 130})\n",
      "Confusion Matrix\n",
      "[[276 130 157]\n",
      " [  0   0   0]\n",
      " [  0   0   0]]\n",
      "\n",
      "\n"
     ]
    }
   ],
   "source": [
    "f1_select_values = []\n",
    "feature_importance_select_values = []\n",
    "\n",
    "for i in range(num_folds):\n",
    "    print(\"Fold\", i) \n",
    "\n",
    "    # Cross validation testing data\n",
    "    X_select_cv_test = X_train[i]\n",
    "    y_select_cv_test = y_train[i]\n",
    "    X_select_cv_test = X_select_cv_test[:, index] # retain only the top n features in the data\n",
    "    print(\"Testing data size:\", X_select_cv_test.shape)\n",
    "    print(\"Testing label size:\", y_select_cv_test.shape) \n",
    "\n",
    "    # Cross validation training data\n",
    "    X_select_cv_train = X_train[:i] + X_train[i+1 :]\n",
    "    X_select_cv_train = np.concatenate(X_select_cv_train, axis=0) # convert list of np arrays to single np array\n",
    "    X_select_cv_train = X_select_cv_train[:, index]\n",
    "    y_select_cv_train = y_train[:i] + y_train[i+1 :]\n",
    "    y_select_cv_train = np.concatenate(y_select_cv_train, axis=0)\n",
    "    print(\"Training data size:\", X_select_cv_train.shape)\n",
    "    print(\"Training label size:\", y_select_cv_train.shape) \n",
    "\n",
    "    # Build SVC model\n",
    "    clf_select = SVC(kernel='linear', class_weight='balanced')\n",
    "    clf_select.fit(X_select_cv_train, y_select_cv_train)  # train the model using cross validation training set (9 patients)\n",
    "    cv_select_pred = clf_select.predict(X_select_cv_test)  # predict using cross validation testing set (1 patient)\n",
    "\n",
    "    # Calculate f1 score \n",
    "    f1_select = f1_score(y_select_cv_test, cv_select_pred, average='weighted')\n",
    "    f1_select_values.append(f1_select)\n",
    "    print(\"f1 score:\", f1_select)\n",
    "    feature_importance_select_values.append(np.mean([clf_select.coef_[0], clf_select.coef_[1], clf_select.coef_[2]], axis=0))\n",
    "        \n",
    "    print(\"Real labels:\", collections.Counter(y_select_cv_test)) \n",
    "    print(\"Predicted labels:\", collections.Counter(cv_select_pred)) \n",
    "    \n",
    "    # Print confusion matrix\n",
    "    print(\"Confusion Matrix\") \n",
    "    print(confusion_matrix(y_select_cv_test, cv_select_pred))\n",
    "\n",
    "    print(\"\\n\") "
   ]
  },
  {
   "cell_type": "markdown",
   "metadata": {},
   "source": [
    "### Calculate results "
   ]
  },
  {
   "cell_type": "code",
   "execution_count": 17,
   "metadata": {},
   "outputs": [
    {
     "name": "stdout",
     "output_type": "stream",
     "text": [
      "Final f1 score: 0.7367540377580679\n"
     ]
    }
   ],
   "source": [
    "# Calculate final performance metric\n",
    "f1_select_final = np.mean(f1_select_values)\n",
    "print(\"Final f1 score:\", f1_select_final) "
   ]
  },
  {
   "cell_type": "code",
   "execution_count": 18,
   "metadata": {},
   "outputs": [
    {
     "name": "stderr",
     "output_type": "stream",
     "text": [
      "No artists with labels found to put in legend.  Note that artists whose label start with an underscore are ignored when legend() is called with no argument.\n"
     ]
    },
    {
     "data": {
      "image/png": "[encoded data removed]",
      "text/plain": [
       "<Figure size 640x480 with 1 Axes>"
      ]
     },
     "metadata": {},
     "output_type": "display_data"
    }
   ],
   "source": [
    "# Calculate and plot final feature importance scores\n",
    "feature_importance_select_final = np.mean(feature_importance_select_values, axis=0)\n",
    "feature_imp_select = pd.Series(feature_importance_select_final, index=keep_names).sort_values(ascending=False) # sort features by their feature importance score, in descending order\n",
    "top_feature_imp_select = feature_imp_select.head(15)\n",
    "\n",
    "# Plot feature importance\n",
    "import seaborn as sns\n",
    "# %matplotlib inline\n",
    "sns.barplot(x=top_feature_imp_select, y=top_feature_imp_select.index) # creating a bar plot of feature importance\n",
    "\n",
    "# Add labels to the graph\n",
    "plt.xlabel('Feature Importance Score')\n",
    "plt.ylabel('Features')\n",
    "plt.title(\"Visualizing Important Features\")\n",
    "plt.legend()\n",
    "plt.show()"
   ]
  },
  {
   "cell_type": "markdown",
   "metadata": {},
   "source": [
    "## Final cell-level classifier \n",
    "Do not run until we determine what is the best cell-level classifier \n",
    "\n",
    "Evaluate performance on on entire training set (all 10 patients at once). Don't do cross validation. Run training on all 10 patients at once. Then perform testing on 3 test patients "
   ]
  },
  {
   "cell_type": "code",
   "execution_count": 19,
   "metadata": {},
   "outputs": [
    {
     "name": "stdout",
     "output_type": "stream",
     "text": [
      "Training data size: (17581, 41)\n",
      "Training label size: (17581,)\n"
     ]
    }
   ],
   "source": [
    "# Merge data for all patients into one training set instead of 10 indiviual ones \n",
    "X_train_total = np.concatenate(X_train, axis=0)\n",
    "X_train_total = X_train_total[:, index]\n",
    "y_train_total = np.concatenate(y_train, axis=0)\n",
    "print(\"Training data size:\", X_train_total.shape)\n",
    "print(\"Training label size:\", y_train_total.shape)"
   ]
  },
  {
   "cell_type": "code",
   "execution_count": 20,
   "metadata": {},
   "outputs": [
    {
     "data": {
      "text/plain": [
       "SVC(class_weight='balanced', kernel='linear')"
      ]
     },
     "execution_count": 20,
     "metadata": {},
     "output_type": "execute_result"
    }
   ],
   "source": [
    "#################################################################\n",
    "## Replace clf with name of final cell-level classifier to use ## \n",
    "#################################################################\n",
    "\n",
    "# Perform training \n",
    "clf_final = SVC(kernel='linear', class_weight='balanced')\n",
    "clf_final.fit(X_train_total, y_train_total) # change clf to something else if needed"
   ]
  },
  {
   "cell_type": "code",
   "execution_count": 21,
   "metadata": {},
   "outputs": [],
   "source": [
    "#################################################################\n",
    "## Replace clf with name of final cell-level classifier to use ## \n",
    "#################################################################\n",
    "\n",
    "# Make predictions for each patient\n",
    "# test_pred = clf_final.predict(X_test) # predict one patient at a time, change clf to something else if needed\n",
    "# f1_test = f1_score(y_test, test_pred, average='weighted')\n",
    "# print(\"f1 score:\", f1_test) "
   ]
  },
  {
   "cell_type": "code",
   "execution_count": 22,
   "metadata": {},
   "outputs": [
    {
     "name": "stdout",
     "output_type": "stream",
     "text": [
      "f1 score: 0.6514722995858809\n"
     ]
    }
   ],
   "source": [
    "# What happens if we trim X_test to only top features? \n",
    "X_test_trim = X_test[:, index]\n",
    "test_trim_pred = clf_final.predict(X_test_trim)\n",
    "f1_test_trim = f1_score(y_test, test_trim_pred, average='weighted')\n",
    "print(\"f1 score:\", f1_test_trim) "
   ]
  }
 ],
 "metadata": {
  "kernelspec": {
   "display_name": "Python 3",
   "language": "python",
   "name": "python3"
  },
  "language_info": {
   "codemirror_mode": {
    "name": "ipython",
    "version": 3
   },
   "file_extension": ".py",
   "mimetype": "text/x-python",
   "name": "python",
   "nbconvert_exporter": "python",
   "pygments_lexer": "ipython3",
   "version": "3.8.10"
  }
 },
 "nbformat": 4,
 "nbformat_minor": 4
}
